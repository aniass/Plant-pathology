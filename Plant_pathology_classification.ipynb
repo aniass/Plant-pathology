{
  "nbformat": 4,
  "nbformat_minor": 0,
  "metadata": {
    "colab": {
      "name": "Plant_pathology_classification.ipynb",
      "provenance": [],
      "collapsed_sections": [],
      "mount_file_id": "1jcymnAffDUzs5X7kuRmUylM2jOA7KhYQ",
      "authorship_tag": "ABX9TyNZwCNSAtj5DGK1ZudsRWEr"
    },
    "kernelspec": {
      "name": "python3",
      "display_name": "Python 3"
    },
    "language_info": {
      "name": "python"
    },
    "accelerator": "GPU"
  },
  "cells": [
    {
      "cell_type": "markdown",
      "metadata": {
        "id": "4ti3Jq7x4iXs"
      },
      "source": [
        "## **Plant pathology classification**\n",
        "\n",
        "The project concerns the recognition of apple leaf diseases based on their photos. The leaves are classified as \"healthy\", \"multiple diseases\", \"scab\" and \"rust\". This is a multiclass classification problem.\n",
        "\n",
        "**Data**\n",
        "\n",
        "The data comes from kaggle competition (Plant Pathology 2020 - FGVC7)."
      ]
    },
    {
      "cell_type": "markdown",
      "metadata": {
        "id": "kJ8m62sBjnoL"
      },
      "source": [
        "#### **Import libraries and data**"
      ]
    },
    {
      "cell_type": "code",
      "metadata": {
        "colab": {
          "base_uri": "https://localhost:8080/",
          "height": 36
        },
        "id": "YsMaZUEo2Dwn",
        "outputId": "1aa8938d-951f-4491-8a37-185dd0d122f0"
      },
      "source": [
        "import numpy as np\n",
        "import pandas as pd\n",
        "import seaborn as sns\n",
        "import matplotlib.pyplot as plt \n",
        "import os\n",
        "import cv2\n",
        "from PIL import Image\n",
        "\n",
        "from sklearn.model_selection import train_test_split\n",
        "from imblearn.over_sampling import SMOTE\n",
        "\n",
        "from keras.preprocessing.image import img_to_array\n",
        "from keras.preprocessing.image import ImageDataGenerator\n",
        "import tensorflow as tf\n",
        "from tensorflow.keras.models import Sequential\n",
        "from tensorflow.keras.layers import Dense, Conv2D, MaxPooling2D, Flatten, Dropout\n",
        "from tensorflow.keras.callbacks import EarlyStopping\n",
        "from tensorflow.keras.optimizers import Adam\n",
        "from sklearn.metrics import confusion_matrix, accuracy_score, classification_report\n",
        "\n",
        "import warnings\n",
        "warnings.filterwarnings('ignore')\n",
        "\n",
        "tf.__version__"
      ],
      "execution_count": null,
      "outputs": [
        {
          "output_type": "execute_result",
          "data": {
            "application/vnd.google.colaboratory.intrinsic+json": {
              "type": "string"
            },
            "text/plain": [
              "'2.5.0'"
            ]
          },
          "metadata": {
            "tags": []
          },
          "execution_count": 89
        }
      ]
    },
    {
      "cell_type": "markdown",
      "metadata": {
        "id": "1y16tN5q33cV"
      },
      "source": [
        "Read data:"
      ]
    },
    {
      "cell_type": "code",
      "metadata": {
        "id": "Ukpbs7Xu2Lz-"
      },
      "source": [
        "images_path = '/content/drive/My Drive/moje pliki/plant/images'\n",
        "train = pd.read_csv('/content/drive/My Drive/moje pliki/plant/train.csv')\n",
        "test = pd.read_csv('/content/drive/My Drive/moje pliki/plant/train.csv')"
      ],
      "execution_count": null,
      "outputs": []
    },
    {
      "cell_type": "markdown",
      "metadata": {
        "id": "gxtpILcT4XjW"
      },
      "source": [
        "### **Data analysis**\n",
        "\n",
        "The dataset contains csv. files divided into training and test ones and a folder of photos in jpg format. \n",
        "\n",
        "The data include photos of the apple leaves describing their diseases. There are 4 classes: healthy, rust, scub and multiple diseases."
      ]
    },
    {
      "cell_type": "code",
      "metadata": {
        "colab": {
          "base_uri": "https://localhost:8080/"
        },
        "id": "MXNTre_d9enI",
        "outputId": "56404c66-a466-4f19-ea22-e202fe19fe93"
      },
      "source": [
        "train.info() "
      ],
      "execution_count": null,
      "outputs": [
        {
          "output_type": "stream",
          "text": [
            "<class 'pandas.core.frame.DataFrame'>\n",
            "RangeIndex: 1821 entries, 0 to 1820\n",
            "Data columns (total 5 columns):\n",
            " #   Column             Non-Null Count  Dtype \n",
            "---  ------             --------------  ----- \n",
            " 0   image_id           1821 non-null   object\n",
            " 1   healthy            1821 non-null   int64 \n",
            " 2   multiple_diseases  1821 non-null   int64 \n",
            " 3   rust               1821 non-null   int64 \n",
            " 4   scab               1821 non-null   int64 \n",
            "dtypes: int64(4), object(1)\n",
            "memory usage: 71.3+ KB\n"
          ],
          "name": "stdout"
        }
      ]
    },
    {
      "cell_type": "code",
      "metadata": {
        "colab": {
          "base_uri": "https://localhost:8080/",
          "height": 206
        },
        "id": "UchM6ftJ2L3I",
        "outputId": "9050aaf0-d3d9-46eb-f8c4-37959026d4e3"
      },
      "source": [
        "train.head()"
      ],
      "execution_count": null,
      "outputs": [
        {
          "output_type": "execute_result",
          "data": {
            "text/html": [
              "<div>\n",
              "<style scoped>\n",
              "    .dataframe tbody tr th:only-of-type {\n",
              "        vertical-align: middle;\n",
              "    }\n",
              "\n",
              "    .dataframe tbody tr th {\n",
              "        vertical-align: top;\n",
              "    }\n",
              "\n",
              "    .dataframe thead th {\n",
              "        text-align: right;\n",
              "    }\n",
              "</style>\n",
              "<table border=\"1\" class=\"dataframe\">\n",
              "  <thead>\n",
              "    <tr style=\"text-align: right;\">\n",
              "      <th></th>\n",
              "      <th>image_id</th>\n",
              "      <th>healthy</th>\n",
              "      <th>multiple_diseases</th>\n",
              "      <th>rust</th>\n",
              "      <th>scab</th>\n",
              "    </tr>\n",
              "  </thead>\n",
              "  <tbody>\n",
              "    <tr>\n",
              "      <th>0</th>\n",
              "      <td>Train_0</td>\n",
              "      <td>0</td>\n",
              "      <td>0</td>\n",
              "      <td>0</td>\n",
              "      <td>1</td>\n",
              "    </tr>\n",
              "    <tr>\n",
              "      <th>1</th>\n",
              "      <td>Train_1</td>\n",
              "      <td>0</td>\n",
              "      <td>1</td>\n",
              "      <td>0</td>\n",
              "      <td>0</td>\n",
              "    </tr>\n",
              "    <tr>\n",
              "      <th>2</th>\n",
              "      <td>Train_2</td>\n",
              "      <td>1</td>\n",
              "      <td>0</td>\n",
              "      <td>0</td>\n",
              "      <td>0</td>\n",
              "    </tr>\n",
              "    <tr>\n",
              "      <th>3</th>\n",
              "      <td>Train_3</td>\n",
              "      <td>0</td>\n",
              "      <td>0</td>\n",
              "      <td>1</td>\n",
              "      <td>0</td>\n",
              "    </tr>\n",
              "    <tr>\n",
              "      <th>4</th>\n",
              "      <td>Train_4</td>\n",
              "      <td>1</td>\n",
              "      <td>0</td>\n",
              "      <td>0</td>\n",
              "      <td>0</td>\n",
              "    </tr>\n",
              "  </tbody>\n",
              "</table>\n",
              "</div>"
            ],
            "text/plain": [
              "  image_id  healthy  multiple_diseases  rust  scab\n",
              "0  Train_0        0                  0     0     1\n",
              "1  Train_1        0                  1     0     0\n",
              "2  Train_2        1                  0     0     0\n",
              "3  Train_3        0                  0     1     0\n",
              "4  Train_4        1                  0     0     0"
            ]
          },
          "metadata": {
            "tags": []
          },
          "execution_count": 7
        }
      ]
    },
    {
      "cell_type": "code",
      "metadata": {
        "colab": {
          "base_uri": "https://localhost:8080/"
        },
        "id": "KwYL8zHK2L5r",
        "outputId": "07449f8a-deb6-4d3a-aab0-dbd2def135b7"
      },
      "source": [
        "train.shape"
      ],
      "execution_count": null,
      "outputs": [
        {
          "output_type": "execute_result",
          "data": {
            "text/plain": [
              "(1821, 5)"
            ]
          },
          "metadata": {
            "tags": []
          },
          "execution_count": 8
        }
      ]
    },
    {
      "cell_type": "code",
      "metadata": {
        "colab": {
          "base_uri": "https://localhost:8080/"
        },
        "id": "PIOV1qzQ2L8z",
        "outputId": "b842ca9a-95a1-4174-b6f3-3f88bb2a99d5"
      },
      "source": [
        "test.shape"
      ],
      "execution_count": null,
      "outputs": [
        {
          "output_type": "execute_result",
          "data": {
            "text/plain": [
              "(1821, 5)"
            ]
          },
          "metadata": {
            "tags": []
          },
          "execution_count": 9
        }
      ]
    },
    {
      "cell_type": "markdown",
      "metadata": {
        "id": "iRnh1OobEXEo"
      },
      "source": [
        "Number of photos in each class: "
      ]
    },
    {
      "cell_type": "code",
      "metadata": {
        "colab": {
          "base_uri": "https://localhost:8080/"
        },
        "id": "ntR66koN9ebP",
        "outputId": "dc923710-6ca0-4b02-d8f8-0be235c5d8bf"
      },
      "source": [
        "number_of_images = ['healthy', 'multiple_diseases', 'rust', 'scab']\n",
        "\n",
        "print(train[number_of_images].sum())"
      ],
      "execution_count": null,
      "outputs": [
        {
          "output_type": "stream",
          "text": [
            "healthy              516\n",
            "multiple_diseases     91\n",
            "rust                 622\n",
            "scab                 592\n",
            "dtype: int64\n"
          ],
          "name": "stdout"
        }
      ]
    },
    {
      "cell_type": "markdown",
      "metadata": {
        "id": "GL_2KqFz_-Sq"
      },
      "source": [
        "After first observations we can see that we have 1,821 images with 4 classes in the training data and the same amount of test data. "
      ]
    },
    {
      "cell_type": "markdown",
      "metadata": {
        "id": "P-7Yg2JXFFir"
      },
      "source": [
        "#### **Data visualization**\n",
        "\n",
        "Distribution of individual classes on the charts: "
      ]
    },
    {
      "cell_type": "code",
      "metadata": {
        "colab": {
          "base_uri": "https://localhost:8080/",
          "height": 377
        },
        "id": "9uXM7AwBQddR",
        "outputId": "6e28e123-77a3-4c80-fdcd-ceeef0a228b8"
      },
      "source": [
        "train[number_of_images].sum().plot.bar()\n",
        "plt.xlabel('Classes')\n",
        "plt.ylabel('Counts')"
      ],
      "execution_count": null,
      "outputs": [
        {
          "output_type": "execute_result",
          "data": {
            "text/plain": [
              "Text(0, 0.5, 'Counts')"
            ]
          },
          "metadata": {
            "tags": []
          },
          "execution_count": 11
        },
        {
          "output_type": "display_data",
          "data": {
            "image/png": "[encoded data removed]",
            "text/plain": [
              "<Figure size 432x288 with 1 Axes>"
            ]
          },
          "metadata": {
            "tags": [],
            "needs_background": "light"
          }
        }
      ]
    },
    {
      "cell_type": "markdown",
      "metadata": {
        "id": "wshoI-Jhw96x"
      },
      "source": [
        "Distribution of data for individual variables: "
      ]
    },
    {
      "cell_type": "code",
      "metadata": {
        "colab": {
          "base_uri": "https://localhost:8080/",
          "height": 279
        },
        "id": "5uMEbNkh92VV",
        "outputId": "3c522818-4ca3-4903-8335-6831f621dadd"
      },
      "source": [
        "sns.countplot(train['healthy']);"
      ],
      "execution_count": null,
      "outputs": [
        {
          "output_type": "display_data",
          "data": {
            "image/png": "[encoded data removed]",
            "text/plain": [
              "<Figure size 432x288 with 1 Axes>"
            ]
          },
          "metadata": {
            "tags": [],
            "needs_background": "light"
          }
        }
      ]
    },
    {
      "cell_type": "code",
      "metadata": {
        "colab": {
          "base_uri": "https://localhost:8080/",
          "height": 280
        },
        "id": "tbpTtRM092Ya",
        "outputId": "6d49273e-29d8-4d20-a491-50d7876c9a13"
      },
      "source": [
        "sns.countplot(train['multiple_diseases']);"
      ],
      "execution_count": null,
      "outputs": [
        {
          "output_type": "display_data",
          "data": {
            "image/png": "[encoded data removed]",
            "text/plain": [
              "<Figure size 432x288 with 1 Axes>"
            ]
          },
          "metadata": {
            "tags": [],
            "needs_background": "light"
          }
        }
      ]
    },
    {
      "cell_type": "code",
      "metadata": {
        "colab": {
          "base_uri": "https://localhost:8080/",
          "height": 279
        },
        "id": "O2TrBOsw92bx",
        "outputId": "51ad1865-a10e-4486-8a2c-fb3b0d0c7cc8"
      },
      "source": [
        "sns.countplot(train['rust']);"
      ],
      "execution_count": null,
      "outputs": [
        {
          "output_type": "display_data",
          "data": {
            "image/png": "[encoded data removed]",
            "text/plain": [
              "<Figure size 432x288 with 1 Axes>"
            ]
          },
          "metadata": {
            "tags": [],
            "needs_background": "light"
          }
        }
      ]
    },
    {
      "cell_type": "code",
      "metadata": {
        "colab": {
          "base_uri": "https://localhost:8080/",
          "height": 279
        },
        "id": "WFUraT5W92fM",
        "outputId": "acf2f893-bcde-4926-ad3f-cb7d3482452a"
      },
      "source": [
        "sns.countplot(train['scab']);"
      ],
      "execution_count": null,
      "outputs": [
        {
          "output_type": "display_data",
          "data": {
            "image/png": "[encoded data removed]",
            "text/plain": [
              "<Figure size 432x288 with 1 Axes>"
            ]
          },
          "metadata": {
            "tags": [],
            "needs_background": "light"
          }
        }
      ]
    },
    {
      "cell_type": "markdown",
      "metadata": {
        "id": "hyVIlWvpxENn"
      },
      "source": [
        "After analyzing the dataset we can see that the data is out of balance. The fewest images are in the category of multiple diseases. "
      ]
    },
    {
      "cell_type": "markdown",
      "metadata": {
        "id": "PpSo4pG7FWiW"
      },
      "source": [
        "### **Data preparation**\n",
        "\n",
        "We divide the data into training and test sets and change the image size to 224 (the images are too large, so we reduce them to be able to load them into the model). "
      ]
    },
    {
      "cell_type": "code",
      "metadata": {
        "id": "RZ-gm7nWFPyP"
      },
      "source": [
        "img_size = 224\n",
        "\n",
        "train_images = []\n",
        "\n",
        "for name in train['image_id']:\n",
        "  path = os.path.join(images_path, name) + \".jpg\"\n",
        "  image = cv2.imread(path)\n",
        "  img = cv2.resize(image,(img_size,img_size),interpolation=cv2.INTER_AREA)\n",
        "  train_images.append(img)\n"
      ],
      "execution_count": null,
      "outputs": []
    },
    {
      "cell_type": "code",
      "metadata": {
        "id": "kwKUREK2FP4j"
      },
      "source": [
        "test_images = []\n",
        "\n",
        "for name in test['image_id']:\n",
        "  path = os.path.join(images_path, name) + \".jpg\"\n",
        "  image = cv2.imread(path)\n",
        "  img = cv2.resize(image,(img_size,img_size),interpolation=cv2.INTER_AREA)\n",
        "  test_images.append(img)"
      ],
      "execution_count": null,
      "outputs": []
    },
    {
      "cell_type": "code",
      "metadata": {
        "colab": {
          "base_uri": "https://localhost:8080/"
        },
        "id": "VB2f1LEdFP1l",
        "outputId": "e585f6bd-11f2-4f2f-ce19-92d31d9735ad"
      },
      "source": [
        "len(train_images), len(test_images)"
      ],
      "execution_count": null,
      "outputs": [
        {
          "output_type": "execute_result",
          "data": {
            "text/plain": [
              "(1821, 1821)"
            ]
          },
          "metadata": {
            "tags": []
          },
          "execution_count": 18
        }
      ]
    },
    {
      "cell_type": "markdown",
      "metadata": {
        "id": "9MHzZ6n4aAzp"
      },
      "source": [
        "Visualization of images: "
      ]
    },
    {
      "cell_type": "code",
      "metadata": {
        "colab": {
          "base_uri": "https://localhost:8080/",
          "height": 197
        },
        "id": "8EasWKdeFP7S",
        "outputId": "97ca2009-a14a-48cb-d7e6-91fb0f204428"
      },
      "source": [
        "#train set\n",
        "f, ax = plt.subplots(1, 4, figsize=(12,12))\n",
        "for i in range(4):\n",
        "  ax[i].imshow(train_images[i])\n"
      ],
      "execution_count": null,
      "outputs": [
        {
          "output_type": "display_data",
          "data": {
            "image/png": "[encoded data removed]",
            "text/plain": [
              "<Figure size 864x864 with 4 Axes>"
            ]
          },
          "metadata": {
            "tags": [],
            "needs_background": "light"
          }
        }
      ]
    },
    {
      "cell_type": "markdown",
      "metadata": {
        "id": "wHDMChXUkzOb"
      },
      "source": [
        "\n",
        "\n",
        "Then we need to write the data to array and rescale all the images. The RGB channel values need to be standardized, which are in the range of [0, 255], so that they are in the range of [0, 1]. \n",
        "\n",
        "Train set:"
      ]
    },
    {
      "cell_type": "code",
      "metadata": {
        "colab": {
          "base_uri": "https://localhost:8080/"
        },
        "id": "rI2tagPRFQBz",
        "outputId": "0daa915e-e8e2-4d8c-ce73-9226a3da38a9"
      },
      "source": [
        "X_train = np.ndarray(shape=(len(train_images), img_size, img_size, 3), dtype = np.float32)\n",
        "\n",
        "for i, img in enumerate(train_images):\n",
        "  X_train[i] = img_to_array(img)\n",
        "  X_train[i] = train_images[i]\n",
        "\n",
        "X_train = X_train/255\n",
        "\n",
        "print(X_train.shape)"
      ],
      "execution_count": null,
      "outputs": [
        {
          "output_type": "stream",
          "text": [
            "(1821, 224, 224, 3)\n"
          ],
          "name": "stdout"
        }
      ]
    },
    {
      "cell_type": "code",
      "metadata": {
        "id": "ejR3Hlouctw8"
      },
      "source": [
        "y_train = train.drop(columns=['image_id'])\n",
        "y_train = np.array(y_train.values)"
      ],
      "execution_count": null,
      "outputs": []
    },
    {
      "cell_type": "code",
      "metadata": {
        "colab": {
          "base_uri": "https://localhost:8080/"
        },
        "id": "EhWH_EWNlzpZ",
        "outputId": "dd3d3c51-fe5e-4bc1-a4fc-64da13437da3"
      },
      "source": [
        "y_train"
      ],
      "execution_count": null,
      "outputs": [
        {
          "output_type": "execute_result",
          "data": {
            "text/plain": [
              "array([[0, 0, 0, 1],\n",
              "       [0, 1, 0, 0],\n",
              "       [1, 0, 0, 0],\n",
              "       ...,\n",
              "       [1, 0, 0, 0],\n",
              "       [0, 0, 1, 0],\n",
              "       [0, 0, 0, 1]])"
            ]
          },
          "metadata": {
            "tags": []
          },
          "execution_count": 22
        }
      ]
    },
    {
      "cell_type": "code",
      "metadata": {
        "colab": {
          "base_uri": "https://localhost:8080/"
        },
        "id": "REV8hZ5Sl2hd",
        "outputId": "d90c5e13-6e89-49dc-8a4e-5043a00339d2"
      },
      "source": [
        "y_train.shape"
      ],
      "execution_count": null,
      "outputs": [
        {
          "output_type": "execute_result",
          "data": {
            "text/plain": [
              "(1821, 4)"
            ]
          },
          "metadata": {
            "tags": []
          },
          "execution_count": 23
        }
      ]
    },
    {
      "cell_type": "markdown",
      "metadata": {
        "id": "KAjaNuK1k3E0"
      },
      "source": [
        "The same transformation for test set: "
      ]
    },
    {
      "cell_type": "code",
      "metadata": {
        "colab": {
          "base_uri": "https://localhost:8080/"
        },
        "id": "6RJ5YUpqct2f",
        "outputId": "9ba47b44-ae54-4e86-c9ad-2b41e4ed152d"
      },
      "source": [
        "X_test = np.ndarray(shape=(len(test_images), img_size, img_size, 3), dtype = np.float32)\n",
        "\n",
        "for i, img in enumerate(test_images):\n",
        "  X_test[i] = img_to_array(img)\n",
        "  X_test[i] = test_images[i]\n",
        "\n",
        "X_test = X_test/255\n",
        "\n",
        "print(X_test.shape)"
      ],
      "execution_count": null,
      "outputs": [
        {
          "output_type": "stream",
          "text": [
            "(1821, 224, 224, 3)\n"
          ],
          "name": "stdout"
        }
      ]
    },
    {
      "cell_type": "code",
      "metadata": {
        "id": "bNP9wJcxKzID"
      },
      "source": [
        "y_test = test.drop(columns=['image_id'])\n",
        "y_test = np.array(y_test.values)"
      ],
      "execution_count": null,
      "outputs": []
    },
    {
      "cell_type": "markdown",
      "metadata": {
        "id": "SsX7VvXNoJBM"
      },
      "source": [
        "**Division of data into train, test and validation data**\n",
        "\n",
        "We divide the data into a training and validation sets by use `train_test_split` method in sklearn library. We split them into 80% of training data and 20% of validation data. "
      ]
    },
    {
      "cell_type": "code",
      "metadata": {
        "colab": {
          "base_uri": "https://localhost:8080/"
        },
        "id": "rg4UNpXVct6F",
        "outputId": "3b89c761-de25-4f61-f96d-579b0bef3080"
      },
      "source": [
        "X_train, X_val, y_train, y_val = train_test_split(X_train ,y_train ,test_size=0.2,random_state=42)\n",
        "\n",
        "X_train.shape, X_val.shape"
      ],
      "execution_count": null,
      "outputs": [
        {
          "output_type": "execute_result",
          "data": {
            "text/plain": [
              "((1456, 224, 224, 3), (365, 224, 224, 3))"
            ]
          },
          "metadata": {
            "tags": []
          },
          "execution_count": 25
        }
      ]
    },
    {
      "cell_type": "markdown",
      "metadata": {
        "id": "Snxvoxt-q4Cr"
      },
      "source": [
        "Since the dataset is not balanced we have to create a balanced dataset for each class. The results give the same number of samples in multiple classes. \n",
        "\n",
        "\n",
        "To get a balanced data set we will use the SMOTE library: "
      ]
    },
    {
      "cell_type": "code",
      "metadata": {
        "id": "_FfazE5ict9l"
      },
      "source": [
        "smote = SMOTE(random_state=42)\n",
        "\n",
        "X_train, y_train = smote.fit_resample(X_train.reshape((-1, img_size*img_size*3)), y_train)\n",
        "\n",
        "X_train = X_train.reshape((-1, img_size, img_size, 3))"
      ],
      "execution_count": null,
      "outputs": []
    },
    {
      "cell_type": "code",
      "metadata": {
        "colab": {
          "base_uri": "https://localhost:8080/"
        },
        "id": "gdtOgi3GsM1f",
        "outputId": "8406f1ca-fae0-4fb4-8ece-3d9792194d17"
      },
      "source": [
        "X_train.shape, y_train.shape"
      ],
      "execution_count": null,
      "outputs": [
        {
          "output_type": "execute_result",
          "data": {
            "text/plain": [
              "((2008, 224, 224, 3), (2008, 4))"
            ]
          },
          "metadata": {
            "tags": []
          },
          "execution_count": 27
        }
      ]
    },
    {
      "cell_type": "code",
      "metadata": {
        "colab": {
          "base_uri": "https://localhost:8080/"
        },
        "id": "JLOCXadxcuBO",
        "outputId": "3576434e-c2ed-4f67-eb18-3fd87ed9c93f"
      },
      "source": [
        "y_train.sum(axis=0)"
      ],
      "execution_count": null,
      "outputs": [
        {
          "output_type": "execute_result",
          "data": {
            "text/plain": [
              "array([502, 502, 502, 502])"
            ]
          },
          "metadata": {
            "tags": []
          },
          "execution_count": 28
        }
      ]
    },
    {
      "cell_type": "markdown",
      "metadata": {
        "id": "fEuvO7nFsxev"
      },
      "source": [
        "### **Creating the model**\n",
        "\n",
        "We build model with Convolutional Neural Network (CNN) and we will test a few models.\n",
        "\n",
        "The model 1 consists of four convolution blocks with a max pool layer in each of them (CNN+pooling). After second layer CNN we increase number of filters *2. Next there's a fully connected layer with three Dense layers. First two layers are activated by a relu activation function and the last one is activated by a softmax activation function."
      ]
    },
    {
      "cell_type": "code",
      "metadata": {
        "id": "97l7Pv-lcuFC",
        "colab": {
          "base_uri": "https://localhost:8080/"
        },
        "outputId": "1293bf43-4182-4168-b6c7-d083e505729e"
      },
      "source": [
        "model = Sequential([                \n",
        "  tf.keras.layers.Conv2D(filters=32, kernel_size=(3,3), activation='relu', padding='same', input_shape=(224, 224, 3)), \n",
        "  tf.keras.layers.MaxPool2D(pool_size=(2,2)),\n",
        "  tf.keras.layers.Conv2D(filters=32, kernel_size=(3,3), activation='relu', padding='same'),\n",
        "  tf.keras.layers.MaxPool2D((2,2)),\n",
        "  tf.keras.layers.Conv2D(filters=64, kernel_size=(5,5), activation='relu', padding='same'),\n",
        "  tf.keras.layers.MaxPool2D((2,2)),\n",
        "  tf.keras.layers.Conv2D(filters=128, kernel_size=(3,3), activation='relu', padding='same'),\n",
        "  tf.keras.layers.MaxPool2D((2,2)),\n",
        "  tf.keras.layers.Flatten(),\n",
        "  tf.keras.layers.Dense(units=64, activation=\"relu\"),\n",
        "  tf.keras.layers.Dropout(0.2),\n",
        "  tf.keras.layers.Dense(units=32, activation=\"relu\"),\n",
        "  tf.keras.layers.Dense(units=4, activation=\"softmax\")\n",
        "])\n",
        "\n",
        "model.summary()"
      ],
      "execution_count": null,
      "outputs": [
        {
          "output_type": "stream",
          "text": [
            "Model: \"sequential_1\"\n",
            "_________________________________________________________________\n",
            "Layer (type)                 Output Shape              Param #   \n",
            "=================================================================\n",
            "conv2d_6 (Conv2D)            (None, 224, 224, 32)      896       \n",
            "_________________________________________________________________\n",
            "max_pooling2d_3 (MaxPooling2 (None, 112, 112, 32)      0         \n",
            "_________________________________________________________________\n",
            "conv2d_7 (Conv2D)            (None, 112, 112, 32)      9248      \n",
            "_________________________________________________________________\n",
            "max_pooling2d_4 (MaxPooling2 (None, 56, 56, 32)        0         \n",
            "_________________________________________________________________\n",
            "conv2d_8 (Conv2D)            (None, 56, 56, 64)        51264     \n",
            "_________________________________________________________________\n",
            "max_pooling2d_5 (MaxPooling2 (None, 28, 28, 64)        0         \n",
            "_________________________________________________________________\n",
            "conv2d_9 (Conv2D)            (None, 28, 28, 128)       73856     \n",
            "_________________________________________________________________\n",
            "max_pooling2d_6 (MaxPooling2 (None, 14, 14, 128)       0         \n",
            "_________________________________________________________________\n",
            "flatten_1 (Flatten)          (None, 25088)             0         \n",
            "_________________________________________________________________\n",
            "dense_3 (Dense)              (None, 64)                1605696   \n",
            "_________________________________________________________________\n",
            "dropout_1 (Dropout)          (None, 64)                0         \n",
            "_________________________________________________________________\n",
            "dense_4 (Dense)              (None, 32)                2080      \n",
            "_________________________________________________________________\n",
            "dense_5 (Dense)              (None, 4)                 132       \n",
            "=================================================================\n",
            "Total params: 1,743,172\n",
            "Trainable params: 1,743,172\n",
            "Non-trainable params: 0\n",
            "_________________________________________________________________\n"
          ],
          "name": "stdout"
        }
      ]
    },
    {
      "cell_type": "markdown",
      "metadata": {
        "id": "HFxd_yvPA6BI"
      },
      "source": [
        "**Compile the model:**\n",
        "\n",
        "We choose the `Adam` optimizer and the loss function: `categorical_crossentropy`. To view training and validation accuracy for each training epoch, we use metrics \"accuracy\".\n"
      ]
    },
    {
      "cell_type": "code",
      "metadata": {
        "id": "1v5Tm4AYDbGT"
      },
      "source": [
        "model.compile(optimizer = 'adam', loss = 'categorical_crossentropy',\n",
        "                   metrics = ['accuracy'])"
      ],
      "execution_count": null,
      "outputs": []
    },
    {
      "cell_type": "markdown",
      "metadata": {
        "id": "OGRio-LcBYIW"
      },
      "source": [
        "**Train the model**\n",
        "\n",
        "We train the model for 30 epoch.\n"
      ]
    },
    {
      "cell_type": "code",
      "metadata": {
        "id": "tqOiWrMtDbKd",
        "colab": {
          "base_uri": "https://localhost:8080/"
        },
        "outputId": "99667157-e9b1-42f1-a35f-1b3fe8e9635c"
      },
      "source": [
        "history = model.fit(\n",
        "    X_train, y_train,\n",
        "    batch_size = 32,\n",
        "    epochs = 30,\n",
        "    validation_data=(X_val, y_val),\n",
        "    verbose=1\n",
        ")"
      ],
      "execution_count": null,
      "outputs": [
        {
          "output_type": "stream",
          "text": [
            "Epoch 1/30\n",
            "63/63 [==============================] - 8s 100ms/step - loss: 1.3876 - accuracy: 0.2495 - val_loss: 1.3514 - val_accuracy: 0.2740\n",
            "Epoch 2/30\n",
            "63/63 [==============================] - 5s 82ms/step - loss: 1.3325 - accuracy: 0.3601 - val_loss: 1.2604 - val_accuracy: 0.4301\n",
            "Epoch 3/30\n",
            "63/63 [==============================] - 5s 82ms/step - loss: 1.2306 - accuracy: 0.4831 - val_loss: 1.2274 - val_accuracy: 0.3973\n",
            "Epoch 4/30\n",
            "63/63 [==============================] - 5s 83ms/step - loss: 1.0489 - accuracy: 0.5697 - val_loss: 1.0472 - val_accuracy: 0.5534\n",
            "Epoch 5/30\n",
            "63/63 [==============================] - 6s 89ms/step - loss: 0.8142 - accuracy: 0.6713 - val_loss: 0.8331 - val_accuracy: 0.6630\n",
            "Epoch 6/30\n",
            "63/63 [==============================] - 5s 83ms/step - loss: 0.5619 - accuracy: 0.7644 - val_loss: 0.8696 - val_accuracy: 0.6986\n",
            "Epoch 7/30\n",
            "63/63 [==============================] - 5s 83ms/step - loss: 0.4123 - accuracy: 0.8272 - val_loss: 1.0550 - val_accuracy: 0.6658\n",
            "Epoch 8/30\n",
            "63/63 [==============================] - 5s 84ms/step - loss: 0.3144 - accuracy: 0.8710 - val_loss: 1.1330 - val_accuracy: 0.6767\n",
            "Epoch 9/30\n",
            "63/63 [==============================] - 5s 84ms/step - loss: 0.2453 - accuracy: 0.9163 - val_loss: 1.1059 - val_accuracy: 0.6849\n",
            "Epoch 10/30\n",
            "63/63 [==============================] - 5s 83ms/step - loss: 0.1979 - accuracy: 0.9233 - val_loss: 1.4022 - val_accuracy: 0.6904\n",
            "Epoch 11/30\n",
            "63/63 [==============================] - 5s 83ms/step - loss: 0.1551 - accuracy: 0.9462 - val_loss: 1.4704 - val_accuracy: 0.7096\n",
            "Epoch 12/30\n",
            "63/63 [==============================] - 5s 83ms/step - loss: 0.1495 - accuracy: 0.9457 - val_loss: 1.5085 - val_accuracy: 0.6959\n",
            "Epoch 13/30\n",
            "63/63 [==============================] - 5s 83ms/step - loss: 0.1145 - accuracy: 0.9557 - val_loss: 1.6441 - val_accuracy: 0.6932\n",
            "Epoch 14/30\n",
            "63/63 [==============================] - 5s 83ms/step - loss: 0.0907 - accuracy: 0.9726 - val_loss: 1.8441 - val_accuracy: 0.6932\n",
            "Epoch 15/30\n",
            "63/63 [==============================] - 5s 83ms/step - loss: 0.0732 - accuracy: 0.9751 - val_loss: 2.0523 - val_accuracy: 0.6795\n",
            "Epoch 16/30\n",
            "63/63 [==============================] - 5s 83ms/step - loss: 0.0545 - accuracy: 0.9816 - val_loss: 2.1079 - val_accuracy: 0.7178\n",
            "Epoch 17/30\n",
            "63/63 [==============================] - 5s 83ms/step - loss: 0.0483 - accuracy: 0.9851 - val_loss: 2.1419 - val_accuracy: 0.7233\n",
            "Epoch 18/30\n",
            "63/63 [==============================] - 5s 82ms/step - loss: 0.0827 - accuracy: 0.9751 - val_loss: 2.0075 - val_accuracy: 0.7096\n",
            "Epoch 19/30\n",
            "63/63 [==============================] - 5s 83ms/step - loss: 0.0498 - accuracy: 0.9885 - val_loss: 2.1727 - val_accuracy: 0.7342\n",
            "Epoch 20/30\n",
            "63/63 [==============================] - 5s 83ms/step - loss: 0.0539 - accuracy: 0.9826 - val_loss: 2.3211 - val_accuracy: 0.7315\n",
            "Epoch 21/30\n",
            "63/63 [==============================] - 5s 84ms/step - loss: 0.0781 - accuracy: 0.9761 - val_loss: 2.2819 - val_accuracy: 0.6959\n",
            "Epoch 22/30\n",
            "63/63 [==============================] - 5s 83ms/step - loss: 0.1136 - accuracy: 0.9676 - val_loss: 2.0455 - val_accuracy: 0.6795\n",
            "Epoch 23/30\n",
            "63/63 [==============================] - 5s 83ms/step - loss: 0.0495 - accuracy: 0.9831 - val_loss: 2.0068 - val_accuracy: 0.7370\n",
            "Epoch 24/30\n",
            "63/63 [==============================] - 5s 83ms/step - loss: 0.0433 - accuracy: 0.9831 - val_loss: 2.2440 - val_accuracy: 0.7507\n",
            "Epoch 25/30\n",
            "63/63 [==============================] - 5s 83ms/step - loss: 0.0482 - accuracy: 0.9836 - val_loss: 1.8708 - val_accuracy: 0.7452\n",
            "Epoch 26/30\n",
            "63/63 [==============================] - 5s 83ms/step - loss: 0.0504 - accuracy: 0.9851 - val_loss: 2.2002 - val_accuracy: 0.7370\n",
            "Epoch 27/30\n",
            "63/63 [==============================] - 5s 84ms/step - loss: 0.0516 - accuracy: 0.9875 - val_loss: 2.4613 - val_accuracy: 0.7315\n",
            "Epoch 28/30\n",
            "63/63 [==============================] - 5s 82ms/step - loss: 0.0362 - accuracy: 0.9885 - val_loss: 2.1550 - val_accuracy: 0.7397\n",
            "Epoch 29/30\n",
            "63/63 [==============================] - 5s 83ms/step - loss: 0.0282 - accuracy: 0.9880 - val_loss: 2.5721 - val_accuracy: 0.7123\n",
            "Epoch 30/30\n",
            "63/63 [==============================] - 5s 83ms/step - loss: 0.0436 - accuracy: 0.9861 - val_loss: 2.8361 - val_accuracy: 0.6849\n"
          ],
          "name": "stdout"
        }
      ]
    },
    {
      "cell_type": "markdown",
      "metadata": {
        "id": "SaDMTHgRI3zJ"
      },
      "source": [
        "**Visualization training results**\n",
        "\n",
        "The plots of loss and accuracy on the training and validation sets.\n"
      ]
    },
    {
      "cell_type": "code",
      "metadata": {
        "id": "ZrRB7-9hIrtF",
        "colab": {
          "base_uri": "https://localhost:8080/",
          "height": 541
        },
        "outputId": "77968322-df63-4089-b75f-461692c7083d"
      },
      "source": [
        "def plot_graphs(history, string):\n",
        "  plt.plot(history.history[string])\n",
        "  plt.plot(history.history['val_'+string])\n",
        "  plt.xlabel(\"Epochs\")\n",
        "  plt.ylabel(string)\n",
        "  plt.legend([string, 'val_'+string])\n",
        "  plt.show()\n",
        "  \n",
        "plot_graphs(history, \"accuracy\")\n",
        "plot_graphs(history, \"loss\")"
      ],
      "execution_count": null,
      "outputs": [
        {
          "output_type": "display_data",
          "data": {
            "image/png": "[encoded data removed]",
            "text/plain": [
              "<Figure size 432x288 with 1 Axes>"
            ]
          },
          "metadata": {
            "tags": [],
            "needs_background": "light"
          }
        },
        {
          "output_type": "display_data",
          "data": {
            "image/png": "[encoded data removed]",
            "text/plain": [
              "<Figure size 432x288 with 1 Axes>"
            ]
          },
          "metadata": {
            "tags": [],
            "needs_background": "light"
          }
        }
      ]
    },
    {
      "cell_type": "markdown",
      "metadata": {
        "id": "peoUtv9QOLeo"
      },
      "source": [
        "**Prediction on test set:**"
      ]
    },
    {
      "cell_type": "code",
      "metadata": {
        "id": "IE2w1yMMDbOe",
        "colab": {
          "base_uri": "https://localhost:8080/"
        },
        "outputId": "eea9acae-1812-40be-ea42-bb6123057c9f"
      },
      "source": [
        "loss, accuracy = model.evaluate(X_train,y_train, verbose=False)\n",
        "print(\"Training Accuracy: {:.4f}\".format(accuracy))\n",
        "loss, accuracy = model.evaluate(X_test,y_test, verbose=False)\n",
        "print(\"Testing Accuracy:  {:.4f}\".format(accuracy))"
      ],
      "execution_count": null,
      "outputs": [
        {
          "output_type": "stream",
          "text": [
            "Training Accuracy: 0.9915\n",
            "Testing Accuracy:  0.9281\n"
          ],
          "name": "stdout"
        }
      ]
    },
    {
      "cell_type": "code",
      "metadata": {
        "colab": {
          "base_uri": "https://localhost:8080/"
        },
        "id": "SpGs4e8aUkG8",
        "outputId": "d4dd3a0f-e22d-4648-dc46-8a07cade63d7"
      },
      "source": [
        "loss, accuracy = model.evaluate(X_test,y_test, verbose=False)\n",
        "print(\"Testing loss:  {:.4f}\".format(loss))"
      ],
      "execution_count": null,
      "outputs": [
        {
          "output_type": "stream",
          "text": [
            "Testing loss:  0.6008\n"
          ],
          "name": "stdout"
        }
      ]
    },
    {
      "cell_type": "code",
      "metadata": {
        "colab": {
          "base_uri": "https://localhost:8080/"
        },
        "id": "ok8Pb7kfNyOn",
        "outputId": "974f3d75-08d1-4715-d3cc-5a3641d34029"
      },
      "source": [
        "pred = model.predict(X_test)\n",
        "pred"
      ],
      "execution_count": null,
      "outputs": [
        {
          "output_type": "execute_result",
          "data": {
            "text/plain": [
              "array([[1.7609575e-01, 1.6137984e-01, 8.6026460e-02, 5.7649791e-01],\n",
              "       [1.8976671e-05, 4.1742873e-01, 5.8103406e-01, 1.5182424e-03],\n",
              "       [6.7399293e-01, 7.7951662e-02, 1.5474795e-02, 2.3258060e-01],\n",
              "       ...,\n",
              "       [3.0585459e-01, 9.8921999e-02, 3.9662220e-02, 5.5556124e-01],\n",
              "       [1.3920330e-02, 2.2138312e-01, 7.4003583e-01, 2.4660721e-02],\n",
              "       [4.0325168e-01, 4.9821440e-02, 3.8063101e-02, 5.0886381e-01]],\n",
              "      dtype=float32)"
            ]
          },
          "metadata": {
            "tags": []
          },
          "execution_count": 124
        }
      ]
    },
    {
      "cell_type": "markdown",
      "metadata": {
        "id": "Gbc2XVACBs2y"
      },
      "source": [
        "Confusion matrix:"
      ]
    },
    {
      "cell_type": "code",
      "metadata": {
        "id": "sQ0qinzFG6ft"
      },
      "source": [
        "data_count, w, h, c = X_test.shape\n",
        "\n",
        "X_test_array=np.reshape(X_test, (data_count, w, h, c))\n",
        "y_test_array = np.reshape(y_test , (data_count, -1))"
      ],
      "execution_count": null,
      "outputs": []
    },
    {
      "cell_type": "code",
      "metadata": {
        "colab": {
          "base_uri": "https://localhost:8080/"
        },
        "id": "bsBuV2WEIA8g",
        "outputId": "65fc2860-76ed-49c1-e1e7-17b4d938970a"
      },
      "source": [
        "cm = confusion_matrix(y_test_array.argmax(axis=1), pred.argmax(axis=1))\n",
        "cm"
      ],
      "execution_count": null,
      "outputs": [
        {
          "output_type": "execute_result",
          "data": {
            "text/plain": [
              "array([[435,   1,   0,  80],\n",
              "       [ 23,  32,  17,  19],\n",
              "       [ 22,  57, 533,  10],\n",
              "       [174,  31,   1, 386]])"
            ]
          },
          "metadata": {
            "tags": []
          },
          "execution_count": 134
        }
      ]
    },
    {
      "cell_type": "markdown",
      "metadata": {
        "id": "S90xSJBFB0TI"
      },
      "source": [
        "Prediction for 10 first variables:"
      ]
    },
    {
      "cell_type": "code",
      "metadata": {
        "colab": {
          "base_uri": "https://localhost:8080/",
          "height": 363
        },
        "id": "_-JWS-X3PAVm",
        "outputId": "79fc4502-1617-460c-8dee-43bcd47c281c"
      },
      "source": [
        "result = pd.DataFrame()\n",
        "result['image_id'] = test['image_id']\n",
        "result['healthy'] = pred[:, 0]\n",
        "result['multiple_diseases'] = pred[:, 1]\n",
        "result['rust'] = pred[:, 2]\n",
        "result['scab'] = pred[:, 3]\n",
        "result.head(10)"
      ],
      "execution_count": null,
      "outputs": [
        {
          "output_type": "execute_result",
          "data": {
            "text/html": [
              "<div>\n",
              "<style scoped>\n",
              "    .dataframe tbody tr th:only-of-type {\n",
              "        vertical-align: middle;\n",
              "    }\n",
              "\n",
              "    .dataframe tbody tr th {\n",
              "        vertical-align: top;\n",
              "    }\n",
              "\n",
              "    .dataframe thead th {\n",
              "        text-align: right;\n",
              "    }\n",
              "</style>\n",
              "<table border=\"1\" class=\"dataframe\">\n",
              "  <thead>\n",
              "    <tr style=\"text-align: right;\">\n",
              "      <th></th>\n",
              "      <th>image_id</th>\n",
              "      <th>healthy</th>\n",
              "      <th>multiple_diseases</th>\n",
              "      <th>rust</th>\n",
              "      <th>scab</th>\n",
              "    </tr>\n",
              "  </thead>\n",
              "  <tbody>\n",
              "    <tr>\n",
              "      <th>0</th>\n",
              "      <td>Train_0</td>\n",
              "      <td>0.176096</td>\n",
              "      <td>0.161380</td>\n",
              "      <td>0.086026</td>\n",
              "      <td>0.576498</td>\n",
              "    </tr>\n",
              "    <tr>\n",
              "      <th>1</th>\n",
              "      <td>Train_1</td>\n",
              "      <td>0.000019</td>\n",
              "      <td>0.417429</td>\n",
              "      <td>0.581034</td>\n",
              "      <td>0.001518</td>\n",
              "    </tr>\n",
              "    <tr>\n",
              "      <th>2</th>\n",
              "      <td>Train_2</td>\n",
              "      <td>0.673993</td>\n",
              "      <td>0.077952</td>\n",
              "      <td>0.015475</td>\n",
              "      <td>0.232581</td>\n",
              "    </tr>\n",
              "    <tr>\n",
              "      <th>3</th>\n",
              "      <td>Train_3</td>\n",
              "      <td>0.000096</td>\n",
              "      <td>0.279564</td>\n",
              "      <td>0.718865</td>\n",
              "      <td>0.001474</td>\n",
              "    </tr>\n",
              "    <tr>\n",
              "      <th>4</th>\n",
              "      <td>Train_4</td>\n",
              "      <td>0.679363</td>\n",
              "      <td>0.078793</td>\n",
              "      <td>0.020858</td>\n",
              "      <td>0.220986</td>\n",
              "    </tr>\n",
              "    <tr>\n",
              "      <th>5</th>\n",
              "      <td>Train_5</td>\n",
              "      <td>0.358251</td>\n",
              "      <td>0.188824</td>\n",
              "      <td>0.056882</td>\n",
              "      <td>0.396043</td>\n",
              "    </tr>\n",
              "    <tr>\n",
              "      <th>6</th>\n",
              "      <td>Train_6</td>\n",
              "      <td>0.080583</td>\n",
              "      <td>0.402907</td>\n",
              "      <td>0.072693</td>\n",
              "      <td>0.443817</td>\n",
              "    </tr>\n",
              "    <tr>\n",
              "      <th>7</th>\n",
              "      <td>Train_7</td>\n",
              "      <td>0.148342</td>\n",
              "      <td>0.128189</td>\n",
              "      <td>0.052999</td>\n",
              "      <td>0.670471</td>\n",
              "    </tr>\n",
              "    <tr>\n",
              "      <th>8</th>\n",
              "      <td>Train_8</td>\n",
              "      <td>0.251770</td>\n",
              "      <td>0.045549</td>\n",
              "      <td>0.035743</td>\n",
              "      <td>0.666938</td>\n",
              "    </tr>\n",
              "    <tr>\n",
              "      <th>9</th>\n",
              "      <td>Train_9</td>\n",
              "      <td>0.233204</td>\n",
              "      <td>0.126789</td>\n",
              "      <td>0.044168</td>\n",
              "      <td>0.595839</td>\n",
              "    </tr>\n",
              "  </tbody>\n",
              "</table>\n",
              "</div>"
            ],
            "text/plain": [
              "  image_id   healthy  multiple_diseases      rust      scab\n",
              "0  Train_0  0.176096           0.161380  0.086026  0.576498\n",
              "1  Train_1  0.000019           0.417429  0.581034  0.001518\n",
              "2  Train_2  0.673993           0.077952  0.015475  0.232581\n",
              "3  Train_3  0.000096           0.279564  0.718865  0.001474\n",
              "4  Train_4  0.679363           0.078793  0.020858  0.220986\n",
              "5  Train_5  0.358251           0.188824  0.056882  0.396043\n",
              "6  Train_6  0.080583           0.402907  0.072693  0.443817\n",
              "7  Train_7  0.148342           0.128189  0.052999  0.670471\n",
              "8  Train_8  0.251770           0.045549  0.035743  0.666938\n",
              "9  Train_9  0.233204           0.126789  0.044168  0.595839"
            ]
          },
          "metadata": {
            "tags": []
          },
          "execution_count": 150
        }
      ]
    },
    {
      "cell_type": "code",
      "metadata": {
        "id": "3Qhn-4SeTaxI"
      },
      "source": [
        "#save the model\n",
        "model.save(\"plant_model.h5\")"
      ],
      "execution_count": null,
      "outputs": []
    },
    {
      "cell_type": "markdown",
      "metadata": {
        "id": "D9KWgwXwB5L9"
      },
      "source": [
        "**Conclusion for model 1:**\n",
        "\n",
        "\n",
        "Looking at the loss and accuracy training graphs we can see that after 5 epoch there is a noticeable difference in accuracy between the training and validation sets. So we are dealing with overfitting. The loss decreases similarly on both sets, and then after the 5 epoch it starts to increase on the validation set. However, after checking the metrics on the test set we obtained 93% accuracy, close to the training set. After checking the confusion matrix, it can be seen that many samples were classified incorrectly. This we can also see in the 'result' variable, where they are prediction results for the first 10 samples. \n"
      ]
    },
    {
      "cell_type": "markdown",
      "metadata": {
        "id": "5SwGwFzHS-qi"
      },
      "source": [
        "### **Model 2 with data augumentation**\n",
        "\n",
        "In the second model we will use data augmentation to check if the quality of the model can be improved. \n",
        "\n",
        "Data augmentation is a technique that allows us to add new data needed for the training process. It involves the use of various transformations of the available data to synthesize new images. \n",
        "\n",
        "To generate new data we will use the generator available in the Keras `ImageDataGenerator` library. The Image Data Generator has many options and also enables custom preprocessing functions. The images will supplemented with, among others, by displacement, rotation around its axis, horizontal and vertical flip. \n",
        "\n"
      ]
    },
    {
      "cell_type": "code",
      "metadata": {
        "id": "jEuAQYP9NyT-"
      },
      "source": [
        "#define generator\n",
        "datagen = ImageDataGenerator(rotation_range=20,\n",
        "                             width_shift_range=0.2,\n",
        "                             height_shift_range=0.2, \n",
        "                             zoom_range=0.2,\n",
        "                             horizontal_flip=True,\n",
        "                             vertical_flip = True,\n",
        "                             shear_range=0.1)\n",
        "\n",
        "datagen_val = ImageDataGenerator()"
      ],
      "execution_count": null,
      "outputs": []
    },
    {
      "cell_type": "code",
      "metadata": {
        "id": "Fo6nhIY8pwvy"
      },
      "source": [
        "batch_size = 32\n",
        "\n",
        "train_set = datagen.flow(X_train, y_train, batch_size=batch_size)\n",
        "\n",
        "val_set = datagen_val.flow(X_val, y_val, batch_size=batch_size)"
      ],
      "execution_count": null,
      "outputs": []
    },
    {
      "cell_type": "markdown",
      "metadata": {
        "id": "Gcu6H28wMSUy"
      },
      "source": [
        "We will use the same network architecture as in the previous example. "
      ]
    },
    {
      "cell_type": "code",
      "metadata": {
        "id": "Ft-qzoGCS9f7"
      },
      "source": [
        "model2 = Sequential([                \n",
        "  tf.keras.layers.Conv2D(filters=32, kernel_size=(3,3), activation='relu', padding='same', input_shape=(224, 224, 3)), \n",
        "  tf.keras.layers.MaxPool2D(pool_size=(2,2)),\n",
        "  tf.keras.layers.Conv2D(filters=32, kernel_size=(3,3), activation='relu', padding='same'),\n",
        "  tf.keras.layers.MaxPool2D((2,2)),\n",
        "  tf.keras.layers.Conv2D(filters=64, kernel_size=(5,5), activation='relu', padding='same'),\n",
        "  tf.keras.layers.MaxPool2D((2,2)),\n",
        "  tf.keras.layers.Conv2D(filters=128, kernel_size=(3,3), activation='relu', padding='same'),\n",
        "  tf.keras.layers.MaxPool2D((2,2)),\n",
        "  tf.keras.layers.Flatten(),\n",
        "  tf.keras.layers.Dense(units=64, activation=\"relu\"),\n",
        "  tf.keras.layers.Dropout(0.2),\n",
        "  tf.keras.layers.Dense(units=32, activation=\"relu\"),\n",
        "  tf.keras.layers.Dense(units=4, activation=\"softmax\")\n",
        "])"
      ],
      "execution_count": null,
      "outputs": []
    },
    {
      "cell_type": "code",
      "metadata": {
        "id": "WwMrZl7gS9kd"
      },
      "source": [
        "model2.compile(optimizer = 'adam', loss = 'categorical_crossentropy',\n",
        "                   metrics = ['accuracy'])"
      ],
      "execution_count": null,
      "outputs": []
    },
    {
      "cell_type": "markdown",
      "metadata": {
        "id": "lJf_3cgdMVji"
      },
      "source": [
        "We are adding `Early Stopping` which allows learning to stop when the performance of the model stops improving in the validation dataset.  \n"
      ]
    },
    {
      "cell_type": "code",
      "metadata": {
        "id": "5GvSXAHwmCBu"
      },
      "source": [
        "callback = EarlyStopping(monitor='val_loss', \n",
        "                         patience=3,\n",
        "                         verbose=1)"
      ],
      "execution_count": null,
      "outputs": []
    },
    {
      "cell_type": "markdown",
      "metadata": {
        "id": "8q_aoQfrNp-E"
      },
      "source": [
        "We train the model for 30 epoch:"
      ]
    },
    {
      "cell_type": "code",
      "metadata": {
        "colab": {
          "base_uri": "https://localhost:8080/"
        },
        "id": "uRFXuXWsS9ph",
        "outputId": "261f1923-e004-4b4d-8916-8d950e895b12"
      },
      "source": [
        "history2 = model2.fit(train_set,\n",
        "                    epochs = 30,\n",
        "                    validation_data = val_set,\n",
        "                    verbose=1,\n",
        "                    callbacks=[callback])"
      ],
      "execution_count": null,
      "outputs": [
        {
          "output_type": "stream",
          "text": [
            "Epoch 1/30\n",
            "63/63 [==============================] - 26s 401ms/step - loss: 1.3894 - accuracy: 0.2480 - val_loss: 1.3685 - val_accuracy: 0.2740\n",
            "Epoch 2/30\n",
            "63/63 [==============================] - 25s 398ms/step - loss: 1.3726 - accuracy: 0.2963 - val_loss: 1.3859 - val_accuracy: 0.1425\n",
            "Epoch 3/30\n",
            "63/63 [==============================] - 25s 395ms/step - loss: 1.3543 - accuracy: 0.3202 - val_loss: 1.4315 - val_accuracy: 0.1425\n",
            "Epoch 4/30\n",
            "63/63 [==============================] - 25s 393ms/step - loss: 1.3358 - accuracy: 0.3431 - val_loss: 1.3006 - val_accuracy: 0.3397\n",
            "Epoch 5/30\n",
            "63/63 [==============================] - 24s 380ms/step - loss: 1.2920 - accuracy: 0.3720 - val_loss: 1.2383 - val_accuracy: 0.3342\n",
            "Epoch 6/30\n",
            "63/63 [==============================] - 24s 380ms/step - loss: 1.2276 - accuracy: 0.4208 - val_loss: 1.0987 - val_accuracy: 0.4575\n",
            "Epoch 7/30\n",
            "63/63 [==============================] - 25s 392ms/step - loss: 1.1944 - accuracy: 0.4437 - val_loss: 1.0162 - val_accuracy: 0.5671\n",
            "Epoch 8/30\n",
            "63/63 [==============================] - 24s 384ms/step - loss: 1.1390 - accuracy: 0.5060 - val_loss: 0.8604 - val_accuracy: 0.6849\n",
            "Epoch 9/30\n",
            "63/63 [==============================] - 24s 381ms/step - loss: 0.9601 - accuracy: 0.5906 - val_loss: 0.6724 - val_accuracy: 0.7452\n",
            "Epoch 10/30\n",
            "63/63 [==============================] - 24s 380ms/step - loss: 0.8963 - accuracy: 0.6096 - val_loss: 0.6632 - val_accuracy: 0.7370\n",
            "Epoch 11/30\n",
            "63/63 [==============================] - 24s 374ms/step - loss: 0.8006 - accuracy: 0.6544 - val_loss: 0.7424 - val_accuracy: 0.7014\n",
            "Epoch 12/30\n",
            "63/63 [==============================] - 24s 382ms/step - loss: 0.8040 - accuracy: 0.6594 - val_loss: 0.7074 - val_accuracy: 0.6932\n",
            "Epoch 13/30\n",
            "63/63 [==============================] - 25s 392ms/step - loss: 0.7680 - accuracy: 0.6713 - val_loss: 0.5863 - val_accuracy: 0.7890\n",
            "Epoch 14/30\n",
            "63/63 [==============================] - 25s 396ms/step - loss: 0.7066 - accuracy: 0.7012 - val_loss: 0.6805 - val_accuracy: 0.7151\n",
            "Epoch 15/30\n",
            "63/63 [==============================] - 24s 387ms/step - loss: 0.7351 - accuracy: 0.6838 - val_loss: 0.6130 - val_accuracy: 0.7808\n",
            "Epoch 16/30\n",
            "63/63 [==============================] - 24s 381ms/step - loss: 0.7529 - accuracy: 0.6773 - val_loss: 0.6555 - val_accuracy: 0.7123\n",
            "Epoch 00016: early stopping\n"
          ],
          "name": "stdout"
        }
      ]
    },
    {
      "cell_type": "markdown",
      "metadata": {
        "id": "wV7YuNHlidsS"
      },
      "source": [
        "The plots of loss and accuracy on the training and validation sets:"
      ]
    },
    {
      "cell_type": "code",
      "metadata": {
        "colab": {
          "base_uri": "https://localhost:8080/",
          "height": 541
        },
        "id": "jnbu83ZAk8Si",
        "outputId": "22e57ac7-f434-4c94-be9b-8412f8faf396"
      },
      "source": [
        "plot_graphs(history2, \"accuracy\")\n",
        "plot_graphs(history2, \"loss\")"
      ],
      "execution_count": null,
      "outputs": [
        {
          "output_type": "display_data",
          "data": {
            "image/png": "[encoded data removed]",
            "text/plain": [
              "<Figure size 432x288 with 1 Axes>"
            ]
          },
          "metadata": {
            "tags": [],
            "needs_background": "light"
          }
        },
        {
          "output_type": "display_data",
          "data": {
            "image/png": "[encoded data removed]",
            "text/plain": [
              "<Figure size 432x288 with 1 Axes>"
            ]
          },
          "metadata": {
            "tags": [],
            "needs_background": "light"
          }
        }
      ]
    },
    {
      "cell_type": "markdown",
      "metadata": {
        "id": "f8F1-Q-sNuXo"
      },
      "source": [
        "Prediction on test set:"
      ]
    },
    {
      "cell_type": "code",
      "metadata": {
        "colab": {
          "base_uri": "https://localhost:8080/"
        },
        "id": "17ALRZC8k8ZE",
        "outputId": "f973321e-5294-469d-aa86-f6fd7ba6e2cf"
      },
      "source": [
        "loss, accuracy = model2.evaluate(train_set, verbose=False)\n",
        "print(\"Training Accuracy: {:.4f}\".format(accuracy))\n",
        "loss, accuracy = model2.evaluate(X_test,y_test, verbose=False)\n",
        "print(\"Testing Accuracy:  {:.4f}\".format(accuracy))\n",
        "loss, accuracy = model2.evaluate(X_test,y_test, verbose=False)\n",
        "print(\"Testing loss:  {:.4f}\".format(loss))"
      ],
      "execution_count": null,
      "outputs": [
        {
          "output_type": "stream",
          "text": [
            "Training Accuracy: 0.7151\n",
            "Testing Accuracy:  0.7408\n",
            "Testing loss:  0.6216\n"
          ],
          "name": "stdout"
        }
      ]
    },
    {
      "cell_type": "markdown",
      "metadata": {
        "id": "AR2Jtzg3N1NP"
      },
      "source": [
        "**Conclusion for model 2:**\n",
        "\n",
        "The model stopped after 16 epochs. From the graphs above, one can see that both training and validation loss are decreasing with a slight discrepancy compared to the result from the previous model. Likewise, the training and validation accuracy grow together. We see that overfitting is decreased. We also obtained a better accuracy on the test set - at the level of 74%, compared to the training set. \n"
      ]
    },
    {
      "cell_type": "markdown",
      "metadata": {
        "id": "ZkdM6OTntVm5"
      },
      "source": [
        "**Model 3**\n",
        "\n",
        "At the model 3 we have tested another model with augmentation. This time we have changed a bit the network architecture, adding two additional convolutional layers. \n",
        "Now the convolutional network consists of 3  double convolution blocks with a max pool layer in each of them (CNN+pooling).  After  second layer CNN we increase number of filters *2. Then a fully connected layer with three Dense layers. As before, the first two layers are activated by the relu activation function and the last one is activated by the softmax activation function."
      ]
    },
    {
      "cell_type": "code",
      "metadata": {
        "id": "qdQ8Op3_szQt"
      },
      "source": [
        "model3 = Sequential([                \n",
        "  tf.keras.layers.Conv2D(filters=32, kernel_size=(3,3), activation='relu', padding='same', input_shape=(224, 224, 3)), \n",
        "  tf.keras.layers.Conv2D(filters=32, kernel_size=(3,3), activation='relu', padding='same'),\n",
        "  tf.keras.layers.MaxPool2D(pool_size=(2,2)),\n",
        "  tf.keras.layers.Conv2D(filters=64, kernel_size=(3,3), activation='relu', padding='same'),\n",
        "  tf.keras.layers.Conv2D(filters=64, kernel_size=(5,5), activation='relu', padding='same'),\n",
        "  tf.keras.layers.MaxPool2D((2,2)),\n",
        "  tf.keras.layers.Conv2D(filters=128, kernel_size=(5,5), activation='relu', padding='same'),\n",
        "  tf.keras.layers.Conv2D(filters=128, kernel_size=(5,5), activation='relu', padding='same'),\n",
        "  tf.keras.layers.MaxPool2D((2,2)),\n",
        "  tf.keras.layers.Flatten(),\n",
        "  tf.keras.layers.Dense(units=128, activation=\"relu\"),\n",
        "  tf.keras.layers.Dropout(0.2),\n",
        "  tf.keras.layers.Dense(units=64, activation=\"relu\"),\n",
        "  tf.keras.layers.Dense(units=4, activation=\"softmax\")\n",
        "])"
      ],
      "execution_count": null,
      "outputs": []
    },
    {
      "cell_type": "code",
      "metadata": {
        "colab": {
          "base_uri": "https://localhost:8080/"
        },
        "id": "0P9VdwLQu_qz",
        "outputId": "2fa3ce7a-63fa-4400-d17c-d8717332e9bd"
      },
      "source": [
        "model3.summary()"
      ],
      "execution_count": null,
      "outputs": [
        {
          "output_type": "stream",
          "text": [
            "Model: \"sequential_8\"\n",
            "_________________________________________________________________\n",
            "Layer (type)                 Output Shape              Param #   \n",
            "=================================================================\n",
            "conv2d_33 (Conv2D)           (None, 224, 224, 32)      896       \n",
            "_________________________________________________________________\n",
            "conv2d_34 (Conv2D)           (None, 224, 224, 32)      9248      \n",
            "_________________________________________________________________\n",
            "max_pooling2d_30 (MaxPooling (None, 112, 112, 32)      0         \n",
            "_________________________________________________________________\n",
            "conv2d_35 (Conv2D)           (None, 112, 112, 64)      18496     \n",
            "_________________________________________________________________\n",
            "conv2d_36 (Conv2D)           (None, 112, 112, 64)      102464    \n",
            "_________________________________________________________________\n",
            "max_pooling2d_31 (MaxPooling (None, 56, 56, 64)        0         \n",
            "_________________________________________________________________\n",
            "conv2d_37 (Conv2D)           (None, 56, 56, 128)       204928    \n",
            "_________________________________________________________________\n",
            "conv2d_38 (Conv2D)           (None, 56, 56, 128)       409728    \n",
            "_________________________________________________________________\n",
            "max_pooling2d_32 (MaxPooling (None, 28, 28, 128)       0         \n",
            "_________________________________________________________________\n",
            "flatten_8 (Flatten)          (None, 100352)            0         \n",
            "_________________________________________________________________\n",
            "dense_24 (Dense)             (None, 128)               12845184  \n",
            "_________________________________________________________________\n",
            "dropout_10 (Dropout)         (None, 128)               0         \n",
            "_________________________________________________________________\n",
            "dense_25 (Dense)             (None, 64)                8256      \n",
            "_________________________________________________________________\n",
            "dense_26 (Dense)             (None, 4)                 260       \n",
            "=================================================================\n",
            "Total params: 13,599,460\n",
            "Trainable params: 13,599,460\n",
            "Non-trainable params: 0\n",
            "_________________________________________________________________\n"
          ],
          "name": "stdout"
        }
      ]
    },
    {
      "cell_type": "code",
      "metadata": {
        "id": "DZc3q0dCszUn"
      },
      "source": [
        "model3.compile(optimizer = Adam(learning_rate=0.0001),\n",
        "               loss = 'categorical_crossentropy',\n",
        "               metrics = ['accuracy'])"
      ],
      "execution_count": null,
      "outputs": []
    },
    {
      "cell_type": "markdown",
      "metadata": {
        "id": "DZTbHerLVTAQ"
      },
      "source": [
        "We train the model for 50 epoch:"
      ]
    },
    {
      "cell_type": "code",
      "metadata": {
        "colab": {
          "base_uri": "https://localhost:8080/"
        },
        "id": "2RAiw5ClszYq",
        "outputId": "ecf5c391-6c5c-44f9-820f-ed0ebb983495"
      },
      "source": [
        "history3 = model3.fit(train_set,\n",
        "                    epochs = 50,\n",
        "                    validation_data = val_set,\n",
        "                    verbose=1,\n",
        "                    callbacks=[callback])"
      ],
      "execution_count": null,
      "outputs": [
        {
          "output_type": "stream",
          "text": [
            "Epoch 1/50\n",
            "63/63 [==============================] - 34s 499ms/step - loss: 1.3814 - accuracy: 0.2460 - val_loss: 1.2930 - val_accuracy: 0.2740\n",
            "Epoch 2/50\n",
            "63/63 [==============================] - 29s 464ms/step - loss: 1.3329 - accuracy: 0.3606 - val_loss: 1.2457 - val_accuracy: 0.3562\n",
            "Epoch 3/50\n",
            "63/63 [==============================] - 29s 463ms/step - loss: 1.2460 - accuracy: 0.4328 - val_loss: 1.2299 - val_accuracy: 0.4466\n",
            "Epoch 4/50\n",
            "63/63 [==============================] - 30s 466ms/step - loss: 1.2299 - accuracy: 0.4363 - val_loss: 1.2377 - val_accuracy: 0.4356\n",
            "Epoch 5/50\n",
            "63/63 [==============================] - 29s 461ms/step - loss: 1.2186 - accuracy: 0.4482 - val_loss: 1.1703 - val_accuracy: 0.4822\n",
            "Epoch 6/50\n",
            "63/63 [==============================] - 29s 462ms/step - loss: 1.2072 - accuracy: 0.4542 - val_loss: 1.1445 - val_accuracy: 0.4986\n",
            "Epoch 7/50\n",
            "63/63 [==============================] - 29s 461ms/step - loss: 1.1508 - accuracy: 0.4950 - val_loss: 1.0820 - val_accuracy: 0.5342\n",
            "Epoch 8/50\n",
            "63/63 [==============================] - 29s 460ms/step - loss: 1.1416 - accuracy: 0.5100 - val_loss: 1.1993 - val_accuracy: 0.4630\n",
            "Epoch 9/50\n",
            "63/63 [==============================] - 29s 462ms/step - loss: 1.0995 - accuracy: 0.5264 - val_loss: 0.9885 - val_accuracy: 0.6055\n",
            "Epoch 10/50\n",
            "63/63 [==============================] - 29s 462ms/step - loss: 1.0461 - accuracy: 0.5742 - val_loss: 0.9165 - val_accuracy: 0.6247\n",
            "Epoch 11/50\n",
            "63/63 [==============================] - 29s 465ms/step - loss: 0.9518 - accuracy: 0.6006 - val_loss: 0.7361 - val_accuracy: 0.7123\n",
            "Epoch 12/50\n",
            "63/63 [==============================] - 29s 464ms/step - loss: 0.8788 - accuracy: 0.6394 - val_loss: 0.7383 - val_accuracy: 0.6959\n",
            "Epoch 13/50\n",
            "63/63 [==============================] - 29s 462ms/step - loss: 0.8358 - accuracy: 0.6599 - val_loss: 0.6165 - val_accuracy: 0.7671\n",
            "Epoch 14/50\n",
            "63/63 [==============================] - 29s 464ms/step - loss: 0.8194 - accuracy: 0.6534 - val_loss: 0.6371 - val_accuracy: 0.7315\n",
            "Epoch 15/50\n",
            "63/63 [==============================] - 29s 463ms/step - loss: 0.7798 - accuracy: 0.6643 - val_loss: 0.7387 - val_accuracy: 0.7041\n",
            "Epoch 16/50\n",
            "63/63 [==============================] - 29s 463ms/step - loss: 0.7918 - accuracy: 0.6673 - val_loss: 0.5852 - val_accuracy: 0.7699\n",
            "Epoch 17/50\n",
            "63/63 [==============================] - 30s 467ms/step - loss: 0.7220 - accuracy: 0.6942 - val_loss: 0.5799 - val_accuracy: 0.7616\n",
            "Epoch 18/50\n",
            "63/63 [==============================] - 30s 466ms/step - loss: 0.7159 - accuracy: 0.7052 - val_loss: 0.6120 - val_accuracy: 0.7562\n",
            "Epoch 19/50\n",
            "63/63 [==============================] - 29s 463ms/step - loss: 0.7024 - accuracy: 0.6997 - val_loss: 0.5358 - val_accuracy: 0.7808\n",
            "Epoch 20/50\n",
            "63/63 [==============================] - 29s 463ms/step - loss: 0.6851 - accuracy: 0.7146 - val_loss: 0.6351 - val_accuracy: 0.7260\n",
            "Epoch 21/50\n",
            "63/63 [==============================] - 29s 463ms/step - loss: 0.6850 - accuracy: 0.7057 - val_loss: 0.5785 - val_accuracy: 0.7507\n",
            "Epoch 22/50\n",
            "63/63 [==============================] - 29s 465ms/step - loss: 0.6356 - accuracy: 0.7346 - val_loss: 0.5194 - val_accuracy: 0.8082\n",
            "Epoch 23/50\n",
            "63/63 [==============================] - 29s 460ms/step - loss: 0.6522 - accuracy: 0.7176 - val_loss: 0.5870 - val_accuracy: 0.7452\n",
            "Epoch 24/50\n",
            "63/63 [==============================] - 29s 461ms/step - loss: 0.6516 - accuracy: 0.7341 - val_loss: 0.5530 - val_accuracy: 0.7644\n",
            "Epoch 25/50\n",
            "63/63 [==============================] - 29s 459ms/step - loss: 0.6154 - accuracy: 0.7510 - val_loss: 0.5134 - val_accuracy: 0.7781\n",
            "Epoch 26/50\n",
            "63/63 [==============================] - 29s 460ms/step - loss: 0.6222 - accuracy: 0.7455 - val_loss: 0.5137 - val_accuracy: 0.7890\n",
            "Epoch 27/50\n",
            "63/63 [==============================] - 29s 464ms/step - loss: 0.5539 - accuracy: 0.7749 - val_loss: 0.5129 - val_accuracy: 0.7808\n",
            "Epoch 28/50\n",
            "63/63 [==============================] - 29s 459ms/step - loss: 0.6008 - accuracy: 0.7615 - val_loss: 0.4658 - val_accuracy: 0.8384\n",
            "Epoch 29/50\n",
            "63/63 [==============================] - 29s 463ms/step - loss: 0.5254 - accuracy: 0.8048 - val_loss: 0.5059 - val_accuracy: 0.8027\n",
            "Epoch 30/50\n",
            "63/63 [==============================] - 29s 462ms/step - loss: 0.5045 - accuracy: 0.8038 - val_loss: 0.5701 - val_accuracy: 0.7507\n",
            "Epoch 31/50\n",
            "63/63 [==============================] - 30s 470ms/step - loss: 0.5044 - accuracy: 0.8118 - val_loss: 0.3785 - val_accuracy: 0.8548\n",
            "Epoch 32/50\n",
            "63/63 [==============================] - 30s 472ms/step - loss: 0.4798 - accuracy: 0.8142 - val_loss: 0.3182 - val_accuracy: 0.8877\n",
            "Epoch 33/50\n",
            "63/63 [==============================] - 30s 475ms/step - loss: 0.4565 - accuracy: 0.8322 - val_loss: 0.4059 - val_accuracy: 0.8247\n",
            "Epoch 34/50\n",
            "63/63 [==============================] - 30s 475ms/step - loss: 0.4254 - accuracy: 0.8411 - val_loss: 0.3118 - val_accuracy: 0.8767\n",
            "Epoch 35/50\n",
            "63/63 [==============================] - 30s 473ms/step - loss: 0.4109 - accuracy: 0.8516 - val_loss: 0.3327 - val_accuracy: 0.8877\n",
            "Epoch 36/50\n",
            "63/63 [==============================] - 29s 463ms/step - loss: 0.4291 - accuracy: 0.8411 - val_loss: 0.3366 - val_accuracy: 0.8630\n",
            "Epoch 37/50\n",
            "63/63 [==============================] - 29s 463ms/step - loss: 0.3954 - accuracy: 0.8576 - val_loss: 0.4559 - val_accuracy: 0.8082\n",
            "Epoch 00037: early stopping\n"
          ],
          "name": "stdout"
        }
      ]
    },
    {
      "cell_type": "markdown",
      "metadata": {
        "id": "cNGvOgGBVZV0"
      },
      "source": [
        "The plots of loss and accuracy on the training and validation sets:"
      ]
    },
    {
      "cell_type": "code",
      "metadata": {
        "colab": {
          "base_uri": "https://localhost:8080/",
          "height": 541
        },
        "id": "ZktzMetT0tV6",
        "outputId": "32b0fb5a-2d10-4189-8052-9a1e3037d174"
      },
      "source": [
        "plot_graphs(history3, \"accuracy\")\n",
        "plot_graphs(history3, \"loss\")"
      ],
      "execution_count": null,
      "outputs": [
        {
          "output_type": "display_data",
          "data": {
            "image/png": "[encoded data removed]",
            "text/plain": [
              "<Figure size 432x288 with 1 Axes>"
            ]
          },
          "metadata": {
            "tags": [],
            "needs_background": "light"
          }
        },
        {
          "output_type": "display_data",
          "data": {
            "image/png": "[encoded data removed]",
            "text/plain": [
              "<Figure size 432x288 with 1 Axes>"
            ]
          },
          "metadata": {
            "tags": [],
            "needs_background": "light"
          }
        }
      ]
    },
    {
      "cell_type": "markdown",
      "metadata": {
        "id": "NAikyz9FOEB5"
      },
      "source": [
        "**Prediction for model 3:**"
      ]
    },
    {
      "cell_type": "code",
      "metadata": {
        "colab": {
          "base_uri": "https://localhost:8080/"
        },
        "id": "rkDRpaB_0tKb",
        "outputId": "0127c199-3925-4de0-ad5f-8342193042c9"
      },
      "source": [
        "loss, accuracy = model3.evaluate(train_set, verbose=False)\n",
        "print(\"Training Accuracy: {:.4f}\".format(accuracy))\n",
        "loss, accuracy = model3.evaluate(X_test,y_test, verbose=False)\n",
        "print(\"Testing Accuracy:  {:.4f}\".format(accuracy))\n",
        "loss, accuracy = model3.evaluate(X_test,y_test, verbose=False)\n",
        "print(\"Testing loss:  {:.4f}\".format(loss))"
      ],
      "execution_count": null,
      "outputs": [
        {
          "output_type": "stream",
          "text": [
            "Training Accuracy: 0.8018\n",
            "Testing Accuracy:  0.8490\n",
            "Testing loss:  0.3744\n"
          ],
          "name": "stdout"
        }
      ]
    },
    {
      "cell_type": "code",
      "metadata": {
        "id": "k6ol3KYl07hv"
      },
      "source": [
        "preds = model3.predict(X_test)"
      ],
      "execution_count": null,
      "outputs": []
    },
    {
      "cell_type": "markdown",
      "metadata": {
        "id": "W0G1NWWMViLM"
      },
      "source": [
        "Confusion matrix:"
      ]
    },
    {
      "cell_type": "code",
      "metadata": {
        "colab": {
          "base_uri": "https://localhost:8080/"
        },
        "id": "eZCXWYon07lY",
        "outputId": "4aaff447-5d4e-4681-c480-7090f422fb4e"
      },
      "source": [
        "cm = confusion_matrix(y_test_array.argmax(axis=1), preds.argmax(axis=1))\n",
        "cm"
      ],
      "execution_count": null,
      "outputs": [
        {
          "output_type": "execute_result",
          "data": {
            "text/plain": [
              "array([[506,   2,   4,   4],\n",
              "       [ 12,  24,  53,   2],\n",
              "       [  1,   1, 620,   0],\n",
              "       [133,  56,   7, 396]])"
            ]
          },
          "metadata": {
            "tags": []
          },
          "execution_count": 146
        }
      ]
    },
    {
      "cell_type": "code",
      "metadata": {
        "colab": {
          "base_uri": "https://localhost:8080/",
          "height": 363
        },
        "id": "wPiEOA_hRbLb",
        "outputId": "5ddde9fa-5887-4299-fed0-20e52a532fa5"
      },
      "source": [
        "result = pd.DataFrame()\n",
        "result['image_id'] = test['image_id']\n",
        "result['healthy'] = preds[:, 0]\n",
        "result['multiple_diseases'] = preds[:, 1]\n",
        "result['rust'] = preds[:, 2]\n",
        "result['scab'] = preds[:, 3]\n",
        "result.head(10)"
      ],
      "execution_count": null,
      "outputs": [
        {
          "output_type": "execute_result",
          "data": {
            "text/html": [
              "<div>\n",
              "<style scoped>\n",
              "    .dataframe tbody tr th:only-of-type {\n",
              "        vertical-align: middle;\n",
              "    }\n",
              "\n",
              "    .dataframe tbody tr th {\n",
              "        vertical-align: top;\n",
              "    }\n",
              "\n",
              "    .dataframe thead th {\n",
              "        text-align: right;\n",
              "    }\n",
              "</style>\n",
              "<table border=\"1\" class=\"dataframe\">\n",
              "  <thead>\n",
              "    <tr style=\"text-align: right;\">\n",
              "      <th></th>\n",
              "      <th>image_id</th>\n",
              "      <th>healthy</th>\n",
              "      <th>multiple_diseases</th>\n",
              "      <th>rust</th>\n",
              "      <th>scab</th>\n",
              "    </tr>\n",
              "  </thead>\n",
              "  <tbody>\n",
              "    <tr>\n",
              "      <th>0</th>\n",
              "      <td>Train_0</td>\n",
              "      <td>1.323875e-01</td>\n",
              "      <td>0.062532</td>\n",
              "      <td>0.005002</td>\n",
              "      <td>8.000793e-01</td>\n",
              "    </tr>\n",
              "    <tr>\n",
              "      <th>1</th>\n",
              "      <td>Train_1</td>\n",
              "      <td>2.082792e-07</td>\n",
              "      <td>0.056583</td>\n",
              "      <td>0.943416</td>\n",
              "      <td>2.189168e-07</td>\n",
              "    </tr>\n",
              "    <tr>\n",
              "      <th>2</th>\n",
              "      <td>Train_2</td>\n",
              "      <td>9.641677e-01</td>\n",
              "      <td>0.007117</td>\n",
              "      <td>0.001471</td>\n",
              "      <td>2.724347e-02</td>\n",
              "    </tr>\n",
              "    <tr>\n",
              "      <th>3</th>\n",
              "      <td>Train_3</td>\n",
              "      <td>5.015939e-10</td>\n",
              "      <td>0.000537</td>\n",
              "      <td>0.999463</td>\n",
              "      <td>1.266143e-12</td>\n",
              "    </tr>\n",
              "    <tr>\n",
              "      <th>4</th>\n",
              "      <td>Train_4</td>\n",
              "      <td>8.852018e-01</td>\n",
              "      <td>0.060502</td>\n",
              "      <td>0.030164</td>\n",
              "      <td>2.413205e-02</td>\n",
              "    </tr>\n",
              "    <tr>\n",
              "      <th>5</th>\n",
              "      <td>Train_5</td>\n",
              "      <td>4.250301e-01</td>\n",
              "      <td>0.029379</td>\n",
              "      <td>0.003385</td>\n",
              "      <td>5.422056e-01</td>\n",
              "    </tr>\n",
              "    <tr>\n",
              "      <th>6</th>\n",
              "      <td>Train_6</td>\n",
              "      <td>2.104993e-02</td>\n",
              "      <td>0.714372</td>\n",
              "      <td>0.236680</td>\n",
              "      <td>2.789739e-02</td>\n",
              "    </tr>\n",
              "    <tr>\n",
              "      <th>7</th>\n",
              "      <td>Train_7</td>\n",
              "      <td>3.842438e-01</td>\n",
              "      <td>0.017687</td>\n",
              "      <td>0.000992</td>\n",
              "      <td>5.970770e-01</td>\n",
              "    </tr>\n",
              "    <tr>\n",
              "      <th>8</th>\n",
              "      <td>Train_8</td>\n",
              "      <td>3.132025e-01</td>\n",
              "      <td>0.029520</td>\n",
              "      <td>0.002033</td>\n",
              "      <td>6.552439e-01</td>\n",
              "    </tr>\n",
              "    <tr>\n",
              "      <th>9</th>\n",
              "      <td>Train_9</td>\n",
              "      <td>6.435619e-01</td>\n",
              "      <td>0.184642</td>\n",
              "      <td>0.080536</td>\n",
              "      <td>9.125953e-02</td>\n",
              "    </tr>\n",
              "  </tbody>\n",
              "</table>\n",
              "</div>"
            ],
            "text/plain": [
              "  image_id       healthy  multiple_diseases      rust          scab\n",
              "0  Train_0  1.323875e-01           0.062532  0.005002  8.000793e-01\n",
              "1  Train_1  2.082792e-07           0.056583  0.943416  2.189168e-07\n",
              "2  Train_2  9.641677e-01           0.007117  0.001471  2.724347e-02\n",
              "3  Train_3  5.015939e-10           0.000537  0.999463  1.266143e-12\n",
              "4  Train_4  8.852018e-01           0.060502  0.030164  2.413205e-02\n",
              "5  Train_5  4.250301e-01           0.029379  0.003385  5.422056e-01\n",
              "6  Train_6  2.104993e-02           0.714372  0.236680  2.789739e-02\n",
              "7  Train_7  3.842438e-01           0.017687  0.000992  5.970770e-01\n",
              "8  Train_8  3.132025e-01           0.029520  0.002033  6.552439e-01\n",
              "9  Train_9  6.435619e-01           0.184642  0.080536  9.125953e-02"
            ]
          },
          "metadata": {
            "tags": []
          },
          "execution_count": 151
        }
      ]
    },
    {
      "cell_type": "code",
      "metadata": {
        "id": "3ig2sOpl07o4"
      },
      "source": [
        "#save the model\n",
        "model3.save(\"plant_model_aug.h5\")"
      ],
      "execution_count": null,
      "outputs": []
    },
    {
      "cell_type": "markdown",
      "metadata": {
        "id": "Pgv33hxcVoJv"
      },
      "source": [
        "**Conclusion for model 3**\n",
        "\n",
        "The model stopped after 37 epochs. The training graphs show even smaller discrepancies between training and validation data compared to the result from Model 2. The loss of training and validation decreases comparably on both sets, and accuracy also increases . The accuracy of the test set was at the level of 85%  and was also better compared to the model 2. After checking the confusion matrix one can see that more samples were classified correctly compared to the model 1. This we can also see in the `result` variable, where they are prediction results for the first 10 samples. \n",
        "\n"
      ]
    },
    {
      "cell_type": "markdown",
      "metadata": {
        "id": "WSguFJC7jHsW"
      },
      "source": [
        "### **Summary**\n",
        "\n",
        "From our analysis we can see that the model 3 is the best one. By virtue the data augmentation and by a little bit of architecture changes by adding two convolutional layers, it was possible to obtain a model with better accuracy. \n",
        "It is difficult to achieve good accuracy with a CNN model from scratch as overfitting can occur very frequently. We have to experiment with choosing the right architecture, test a few options. \n",
        "\n",
        "By checking the confusion matrix we can to determine in how many cases the model correctly or incorrectly classified the data. Therefore, in model 1 which despite that it had achieved quite a high accuracy on the test set, it was noticed that in many cases it had wrongly classified the samples."
      ]
    }
  ]
}